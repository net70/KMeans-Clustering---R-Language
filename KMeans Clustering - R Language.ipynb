{
 "cells": [
  {
   "cell_type": "markdown",
   "metadata": {
    "collapsed": true
   },
   "source": [
    "# Scenario\n",
    " We are the lead data analists at Ubank. The bank consists of 5000 customers and we were tasked with segmenting them into 3\n",
    " homogeneous groups, then define these groups.\n",
    "\n",
    " Since we know how exactly how many groups we want, we'll apply the KMeans unsupervised machine learning technique.Also, it will\n",
    " prove usful because it will allow us to cross examine the groups features with the bank related activity in order to potentialy\n",
    " predict new customers behavior while. Let's get to it!"
   ]
  },
  {
   "cell_type": "markdown",
   "metadata": {},
   "source": [
    "<img src=\"files/Kmeans_Features.png\">"
   ]
  },
  {
   "cell_type": "markdown",
   "metadata": {},
   "source": [
    "First, let's read in our data set."
   ]
  },
  {
   "cell_type": "code",
   "execution_count": 1,
   "metadata": {
    "collapsed": false
   },
   "outputs": [
    {
     "data": {
      "text/html": [
       "<table>\n",
       "<thead><tr><th scope=col>ID</th><th scope=col>Age</th><th scope=col>Experience</th><th scope=col>Income</th><th scope=col>Family</th><th scope=col>CCAvg</th><th scope=col>Mortgage</th><th scope=col>Education</th><th scope=col>SecuritiesAccount</th><th scope=col>CDAccount</th><th scope=col>Online</th><th scope=col>CreditCard</th><th scope=col>PersonalLoan</th></tr></thead>\n",
       "<tbody>\n",
       "\t<tr><td>1  </td><td>25 </td><td> 1 </td><td> 49</td><td>4  </td><td>1.6</td><td>  0</td><td>1  </td><td>1  </td><td>0  </td><td>0  </td><td>0  </td><td>0  </td></tr>\n",
       "\t<tr><td>2  </td><td>45 </td><td>19 </td><td> 34</td><td>3  </td><td>1.5</td><td>  0</td><td>1  </td><td>1  </td><td>0  </td><td>0  </td><td>0  </td><td>0  </td></tr>\n",
       "\t<tr><td>3  </td><td>39 </td><td>15 </td><td> 11</td><td>1  </td><td>1.0</td><td>  0</td><td>1  </td><td>0  </td><td>0  </td><td>0  </td><td>0  </td><td>0  </td></tr>\n",
       "\t<tr><td>4  </td><td>35 </td><td> 9 </td><td>100</td><td>1  </td><td>2.7</td><td>  0</td><td>2  </td><td>0  </td><td>0  </td><td>0  </td><td>0  </td><td>0  </td></tr>\n",
       "\t<tr><td>5  </td><td>35 </td><td> 8 </td><td> 45</td><td>4  </td><td>1.0</td><td>  0</td><td>2  </td><td>0  </td><td>0  </td><td>0  </td><td>1  </td><td>0  </td></tr>\n",
       "\t<tr><td>6  </td><td>37 </td><td>13 </td><td> 29</td><td>4  </td><td>0.4</td><td>155</td><td>2  </td><td>0  </td><td>0  </td><td>1  </td><td>0  </td><td>0  </td></tr>\n",
       "</tbody>\n",
       "</table>\n"
      ],
      "text/latex": [
       "\\begin{tabular}{r|lllllllllllll}\n",
       " ID & Age & Experience & Income & Family & CCAvg & Mortgage & Education & SecuritiesAccount & CDAccount & Online & CreditCard & PersonalLoan\\\\\n",
       "\\hline\n",
       "\t 1   & 25  &  1  &  49 & 4   & 1.6 &   0 & 1   & 1   & 0   & 0   & 0   & 0  \\\\\n",
       "\t 2   & 45  & 19  &  34 & 3   & 1.5 &   0 & 1   & 1   & 0   & 0   & 0   & 0  \\\\\n",
       "\t 3   & 39  & 15  &  11 & 1   & 1.0 &   0 & 1   & 0   & 0   & 0   & 0   & 0  \\\\\n",
       "\t 4   & 35  &  9  & 100 & 1   & 2.7 &   0 & 2   & 0   & 0   & 0   & 0   & 0  \\\\\n",
       "\t 5   & 35  &  8  &  45 & 4   & 1.0 &   0 & 2   & 0   & 0   & 0   & 1   & 0  \\\\\n",
       "\t 6   & 37  & 13  &  29 & 4   & 0.4 & 155 & 2   & 0   & 0   & 1   & 0   & 0  \\\\\n",
       "\\end{tabular}\n"
      ],
      "text/markdown": [
       "\n",
       "ID | Age | Experience | Income | Family | CCAvg | Mortgage | Education | SecuritiesAccount | CDAccount | Online | CreditCard | PersonalLoan | \n",
       "|---|---|---|---|---|---|\n",
       "| 1   | 25  |  1  |  49 | 4   | 1.6 |   0 | 1   | 1   | 0   | 0   | 0   | 0   | \n",
       "| 2   | 45  | 19  |  34 | 3   | 1.5 |   0 | 1   | 1   | 0   | 0   | 0   | 0   | \n",
       "| 3   | 39  | 15  |  11 | 1   | 1.0 |   0 | 1   | 0   | 0   | 0   | 0   | 0   | \n",
       "| 4   | 35  |  9  | 100 | 1   | 2.7 |   0 | 2   | 0   | 0   | 0   | 0   | 0   | \n",
       "| 5   | 35  |  8  |  45 | 4   | 1.0 |   0 | 2   | 0   | 0   | 0   | 1   | 0   | \n",
       "| 6   | 37  | 13  |  29 | 4   | 0.4 | 155 | 2   | 0   | 0   | 1   | 0   | 0   | \n",
       "\n",
       "\n"
      ],
      "text/plain": [
       "  ID Age Experience Income Family CCAvg Mortgage Education SecuritiesAccount\n",
       "1 1  25   1          49    4      1.6     0      1         1                \n",
       "2 2  45  19          34    3      1.5     0      1         1                \n",
       "3 3  39  15          11    1      1.0     0      1         0                \n",
       "4 4  35   9         100    1      2.7     0      2         0                \n",
       "5 5  35   8          45    4      1.0     0      2         0                \n",
       "6 6  37  13          29    4      0.4   155      2         0                \n",
       "  CDAccount Online CreditCard PersonalLoan\n",
       "1 0         0      0          0           \n",
       "2 0         0      0          0           \n",
       "3 0         0      0          0           \n",
       "4 0         0      0          0           \n",
       "5 0         0      1          0           \n",
       "6 0         1      0          0           "
      ]
     },
     "metadata": {},
     "output_type": "display_data"
    }
   ],
   "source": [
    "ubank = read.csv(\"ubank.csv\")\n",
    "head(ubank)"
   ]
  },
  {
   "cell_type": "markdown",
   "metadata": {},
   "source": [
    "Now we will scale to Z distribution all of our numeric features."
   ]
  },
  {
   "cell_type": "code",
   "execution_count": 2,
   "metadata": {
    "collapsed": false
   },
   "outputs": [
    {
     "data": {
      "text/html": [
       "<table>\n",
       "<thead><tr><th scope=col>Age</th><th scope=col>Experience</th><th scope=col>Income</th><th scope=col>Family</th><th scope=col>CCAvg</th><th scope=col>Mortgage</th></tr></thead>\n",
       "<tbody>\n",
       "\t<tr><td>-1.77423939</td><td>-1.66591186</td><td>-0.5381750 </td><td> 1.3972742 </td><td>-0.1933512 </td><td>-0.5554684 </td></tr>\n",
       "\t<tr><td>-0.02952064</td><td>-0.09632058</td><td>-0.8640230 </td><td> 0.5259383 </td><td>-0.2505704 </td><td>-0.5554684 </td></tr>\n",
       "\t<tr><td>-0.55293627</td><td>-0.44511864</td><td>-1.3636566 </td><td>-1.2167334 </td><td>-0.5366662 </td><td>-0.5554684 </td></tr>\n",
       "\t<tr><td>-0.90188002</td><td>-0.96831574</td><td> 0.5697084 </td><td>-1.2167334 </td><td> 0.4360596 </td><td>-0.5554684 </td></tr>\n",
       "\t<tr><td>-0.90188002</td><td>-1.05551525</td><td>-0.6250678 </td><td> 1.3972742 </td><td>-0.5366662 </td><td>-0.5554684 </td></tr>\n",
       "\t<tr><td>-0.72740814</td><td>-0.61951767</td><td>-0.9726390 </td><td> 1.3972742 </td><td>-0.8799812 </td><td> 0.9684153 </td></tr>\n",
       "</tbody>\n",
       "</table>\n"
      ],
      "text/latex": [
       "\\begin{tabular}{r|llllll}\n",
       " Age & Experience & Income & Family & CCAvg & Mortgage\\\\\n",
       "\\hline\n",
       "\t -1.77423939 & -1.66591186 & -0.5381750  &  1.3972742  & -0.1933512  & -0.5554684 \\\\\n",
       "\t -0.02952064 & -0.09632058 & -0.8640230  &  0.5259383  & -0.2505704  & -0.5554684 \\\\\n",
       "\t -0.55293627 & -0.44511864 & -1.3636566  & -1.2167334  & -0.5366662  & -0.5554684 \\\\\n",
       "\t -0.90188002 & -0.96831574 &  0.5697084  & -1.2167334  &  0.4360596  & -0.5554684 \\\\\n",
       "\t -0.90188002 & -1.05551525 & -0.6250678  &  1.3972742  & -0.5366662  & -0.5554684 \\\\\n",
       "\t -0.72740814 & -0.61951767 & -0.9726390  &  1.3972742  & -0.8799812  &  0.9684153 \\\\\n",
       "\\end{tabular}\n"
      ],
      "text/markdown": [
       "\n",
       "Age | Experience | Income | Family | CCAvg | Mortgage | \n",
       "|---|---|---|---|---|---|\n",
       "| -1.77423939 | -1.66591186 | -0.5381750  |  1.3972742  | -0.1933512  | -0.5554684  | \n",
       "| -0.02952064 | -0.09632058 | -0.8640230  |  0.5259383  | -0.2505704  | -0.5554684  | \n",
       "| -0.55293627 | -0.44511864 | -1.3636566  | -1.2167334  | -0.5366662  | -0.5554684  | \n",
       "| -0.90188002 | -0.96831574 |  0.5697084  | -1.2167334  |  0.4360596  | -0.5554684  | \n",
       "| -0.90188002 | -1.05551525 | -0.6250678  |  1.3972742  | -0.5366662  | -0.5554684  | \n",
       "| -0.72740814 | -0.61951767 | -0.9726390  |  1.3972742  | -0.8799812  |  0.9684153  | \n",
       "\n",
       "\n"
      ],
      "text/plain": [
       "  Age         Experience  Income     Family     CCAvg      Mortgage  \n",
       "1 -1.77423939 -1.66591186 -0.5381750  1.3972742 -0.1933512 -0.5554684\n",
       "2 -0.02952064 -0.09632058 -0.8640230  0.5259383 -0.2505704 -0.5554684\n",
       "3 -0.55293627 -0.44511864 -1.3636566 -1.2167334 -0.5366662 -0.5554684\n",
       "4 -0.90188002 -0.96831574  0.5697084 -1.2167334  0.4360596 -0.5554684\n",
       "5 -0.90188002 -1.05551525 -0.6250678  1.3972742 -0.5366662 -0.5554684\n",
       "6 -0.72740814 -0.61951767 -0.9726390  1.3972742 -0.8799812  0.9684153"
      ]
     },
     "metadata": {},
     "output_type": "display_data"
    }
   ],
   "source": [
    "df_z = as.data.frame(scale(ubank[,2:7]))\n",
    "head(df_z)"
   ]
  },
  {
   "cell_type": "markdown",
   "metadata": {},
   "source": [
    "We'll set a seed of 1234 to get consistant results and fit our model on to the numeric data. Reminder: k = 3."
   ]
  },
  {
   "cell_type": "code",
   "execution_count": 3,
   "metadata": {
    "collapsed": true
   },
   "outputs": [],
   "source": [
    "set.seed(1234)\n",
    "clusters = kmeans(df_z, 3)"
   ]
  },
  {
   "cell_type": "markdown",
   "metadata": {},
   "source": [
    "Now we can assign each field of our data set to it's relevant cluster."
   ]
  },
  {
   "cell_type": "code",
   "execution_count": 4,
   "metadata": {
    "collapsed": false
   },
   "outputs": [
    {
     "data": {
      "text/html": [
       "<table>\n",
       "<thead><tr><th></th><th scope=col>ID</th><th scope=col>Age</th><th scope=col>Experience</th><th scope=col>Income</th><th scope=col>Family</th><th scope=col>CCAvg</th><th scope=col>Mortgage</th><th scope=col>Education</th><th scope=col>SecuritiesAccount</th><th scope=col>CDAccount</th><th scope=col>Online</th><th scope=col>CreditCard</th><th scope=col>PersonalLoan</th><th scope=col>cluster</th></tr></thead>\n",
       "<tbody>\n",
       "\t<tr><th scope=row>4995</th><td>4995</td><td>64  </td><td>40  </td><td>75  </td><td>3   </td><td>2.0 </td><td> 0  </td><td>3   </td><td>0   </td><td>0   </td><td>1   </td><td>0   </td><td>0   </td><td>3   </td></tr>\n",
       "\t<tr><th scope=row>4996</th><td>4996</td><td>29  </td><td> 3  </td><td>40  </td><td>1   </td><td>1.9 </td><td> 0  </td><td>3   </td><td>0   </td><td>0   </td><td>1   </td><td>0   </td><td>0   </td><td>2   </td></tr>\n",
       "\t<tr><th scope=row>4997</th><td>4997</td><td>30  </td><td> 4  </td><td>15  </td><td>4   </td><td>0.4 </td><td>85  </td><td>1   </td><td>0   </td><td>0   </td><td>1   </td><td>0   </td><td>0   </td><td>2   </td></tr>\n",
       "\t<tr><th scope=row>4998</th><td>4998</td><td>63  </td><td>39  </td><td>24  </td><td>2   </td><td>0.3 </td><td> 0  </td><td>3   </td><td>0   </td><td>0   </td><td>0   </td><td>0   </td><td>0   </td><td>3   </td></tr>\n",
       "\t<tr><th scope=row>4999</th><td>4999</td><td>65  </td><td>40  </td><td>49  </td><td>3   </td><td>0.5 </td><td> 0  </td><td>2   </td><td>0   </td><td>0   </td><td>1   </td><td>0   </td><td>0   </td><td>3   </td></tr>\n",
       "\t<tr><th scope=row>5000</th><td>5000</td><td>28  </td><td> 4  </td><td>83  </td><td>3   </td><td>0.8 </td><td> 0  </td><td>1   </td><td>0   </td><td>0   </td><td>1   </td><td>1   </td><td>0   </td><td>2   </td></tr>\n",
       "</tbody>\n",
       "</table>\n"
      ],
      "text/latex": [
       "\\begin{tabular}{r|llllllllllllll}\n",
       "  & ID & Age & Experience & Income & Family & CCAvg & Mortgage & Education & SecuritiesAccount & CDAccount & Online & CreditCard & PersonalLoan & cluster\\\\\n",
       "\\hline\n",
       "\t4995 & 4995 & 64   & 40   & 75   & 3    & 2.0  &  0   & 3    & 0    & 0    & 1    & 0    & 0    & 3   \\\\\n",
       "\t4996 & 4996 & 29   &  3   & 40   & 1    & 1.9  &  0   & 3    & 0    & 0    & 1    & 0    & 0    & 2   \\\\\n",
       "\t4997 & 4997 & 30   &  4   & 15   & 4    & 0.4  & 85   & 1    & 0    & 0    & 1    & 0    & 0    & 2   \\\\\n",
       "\t4998 & 4998 & 63   & 39   & 24   & 2    & 0.3  &  0   & 3    & 0    & 0    & 0    & 0    & 0    & 3   \\\\\n",
       "\t4999 & 4999 & 65   & 40   & 49   & 3    & 0.5  &  0   & 2    & 0    & 0    & 1    & 0    & 0    & 3   \\\\\n",
       "\t5000 & 5000 & 28   &  4   & 83   & 3    & 0.8  &  0   & 1    & 0    & 0    & 1    & 1    & 0    & 2   \\\\\n",
       "\\end{tabular}\n"
      ],
      "text/markdown": [
       "\n",
       "| <!--/--> | ID | Age | Experience | Income | Family | CCAvg | Mortgage | Education | SecuritiesAccount | CDAccount | Online | CreditCard | PersonalLoan | cluster | \n",
       "|---|---|---|---|---|---|\n",
       "| 4995 | 4995 | 64   | 40   | 75   | 3    | 2.0  |  0   | 3    | 0    | 0    | 1    | 0    | 0    | 3    | \n",
       "| 4996 | 4996 | 29   |  3   | 40   | 1    | 1.9  |  0   | 3    | 0    | 0    | 1    | 0    | 0    | 2    | \n",
       "| 4997 | 4997 | 30   |  4   | 15   | 4    | 0.4  | 85   | 1    | 0    | 0    | 1    | 0    | 0    | 2    | \n",
       "| 4998 | 4998 | 63   | 39   | 24   | 2    | 0.3  |  0   | 3    | 0    | 0    | 0    | 0    | 0    | 3    | \n",
       "| 4999 | 4999 | 65   | 40   | 49   | 3    | 0.5  |  0   | 2    | 0    | 0    | 1    | 0    | 0    | 3    | \n",
       "| 5000 | 5000 | 28   |  4   | 83   | 3    | 0.8  |  0   | 1    | 0    | 0    | 1    | 1    | 0    | 2    | \n",
       "\n",
       "\n"
      ],
      "text/plain": [
       "     ID   Age Experience Income Family CCAvg Mortgage Education\n",
       "4995 4995 64  40         75     3      2.0    0       3        \n",
       "4996 4996 29   3         40     1      1.9    0       3        \n",
       "4997 4997 30   4         15     4      0.4   85       1        \n",
       "4998 4998 63  39         24     2      0.3    0       3        \n",
       "4999 4999 65  40         49     3      0.5    0       2        \n",
       "5000 5000 28   4         83     3      0.8    0       1        \n",
       "     SecuritiesAccount CDAccount Online CreditCard PersonalLoan cluster\n",
       "4995 0                 0         1      0          0            3      \n",
       "4996 0                 0         1      0          0            2      \n",
       "4997 0                 0         1      0          0            2      \n",
       "4998 0                 0         0      0          0            3      \n",
       "4999 0                 0         1      0          0            3      \n",
       "5000 0                 0         1      1          0            2      "
      ]
     },
     "metadata": {},
     "output_type": "display_data"
    }
   ],
   "source": [
    "ubank$cluster = as.factor(clusters$cluster)\n",
    "tail(ubank)"
   ]
  },
  {
   "cell_type": "markdown",
   "metadata": {},
   "source": [
    "Let's look at the size of our clusters."
   ]
  },
  {
   "cell_type": "code",
   "execution_count": 5,
   "metadata": {
    "collapsed": false
   },
   "outputs": [
    {
     "data": {
      "text/plain": [
       "\n",
       "   1    2    3 \n",
       " 838 1999 2163 "
      ]
     },
     "metadata": {},
     "output_type": "display_data"
    }
   ],
   "source": [
    "table(ubank$cluster)"
   ]
  },
  {
   "cell_type": "markdown",
   "metadata": {},
   "source": [
    "The number of itarations it took to cluster the data."
   ]
  },
  {
   "cell_type": "code",
   "execution_count": 6,
   "metadata": {
    "collapsed": false
   },
   "outputs": [
    {
     "data": {
      "text/html": [
       "4"
      ],
      "text/latex": [
       "4"
      ],
      "text/markdown": [
       "4"
      ],
      "text/plain": [
       "[1] 4"
      ]
     },
     "metadata": {},
     "output_type": "display_data"
    }
   ],
   "source": [
    "clusters$iter"
   ]
  },
  {
   "cell_type": "markdown",
   "metadata": {},
   "source": [
    "Distance between the smallest cluster to  the largest."
   ]
  },
  {
   "cell_type": "code",
   "execution_count": 7,
   "metadata": {
    "collapsed": false
   },
   "outputs": [
    {
     "data": {
      "text/plain": [
       "         1\n",
       "3 3.198408"
      ]
     },
     "metadata": {},
     "output_type": "display_data"
    }
   ],
   "source": [
    "dist(clusters$centers[c(1,3),])"
   ]
  },
  {
   "cell_type": "markdown",
   "metadata": {},
   "source": [
    "We should create a DataFrame consisting of the average of all our numeric features for each cluster to get a better \"look\" at our groups(Clusters)."
   ]
  },
  {
   "cell_type": "code",
   "execution_count": 8,
   "metadata": {
    "collapsed": false
   },
   "outputs": [],
   "source": [
    "mean_df = aggregate(cbind(Age,Experience,Income,Family,CCAvg,Mortgage)~cluster, ubank, mean)"
   ]
  },
  {
   "cell_type": "code",
   "execution_count": 9,
   "metadata": {
    "collapsed": false
   },
   "outputs": [
    {
     "data": {
      "text/html": [
       "<table>\n",
       "<thead><tr><th scope=col>cluster</th><th scope=col>Age</th><th scope=col>Experience</th><th scope=col>Income</th><th scope=col>Family</th><th scope=col>CCAvg</th><th scope=col>Mortgage</th></tr></thead>\n",
       "<tbody>\n",
       "\t<tr><td>1        </td><td>43.69212 </td><td>18.658711</td><td>146.44869</td><td>1.905728 </td><td>4.792741 </td><td>112.81623</td></tr>\n",
       "\t<tr><td>2        </td><td>35.05853 </td><td> 9.806403</td><td> 60.04502</td><td>2.611806 </td><td>1.372378 </td><td> 45.82991</td></tr>\n",
       "\t<tr><td>3        </td><td>55.47665 </td><td>30.182154</td><td> 58.30652</td><td>2.387425 </td><td>1.354538 </td><td> 44.53999</td></tr>\n",
       "</tbody>\n",
       "</table>\n"
      ],
      "text/latex": [
       "\\begin{tabular}{r|lllllll}\n",
       " cluster & Age & Experience & Income & Family & CCAvg & Mortgage\\\\\n",
       "\\hline\n",
       "\t 1         & 43.69212  & 18.658711 & 146.44869 & 1.905728  & 4.792741  & 112.81623\\\\\n",
       "\t 2         & 35.05853  &  9.806403 &  60.04502 & 2.611806  & 1.372378  &  45.82991\\\\\n",
       "\t 3         & 55.47665  & 30.182154 &  58.30652 & 2.387425  & 1.354538  &  44.53999\\\\\n",
       "\\end{tabular}\n"
      ],
      "text/markdown": [
       "\n",
       "cluster | Age | Experience | Income | Family | CCAvg | Mortgage | \n",
       "|---|---|---|\n",
       "| 1         | 43.69212  | 18.658711 | 146.44869 | 1.905728  | 4.792741  | 112.81623 | \n",
       "| 2         | 35.05853  |  9.806403 |  60.04502 | 2.611806  | 1.372378  |  45.82991 | \n",
       "| 3         | 55.47665  | 30.182154 |  58.30652 | 2.387425  | 1.354538  |  44.53999 | \n",
       "\n",
       "\n"
      ],
      "text/plain": [
       "  cluster Age      Experience Income    Family   CCAvg    Mortgage \n",
       "1 1       43.69212 18.658711  146.44869 1.905728 4.792741 112.81623\n",
       "2 2       35.05853  9.806403   60.04502 2.611806 1.372378  45.82991\n",
       "3 3       55.47665 30.182154   58.30652 2.387425 1.354538  44.53999"
      ]
     },
     "metadata": {},
     "output_type": "display_data"
    }
   ],
   "source": [
    "mean_df"
   ]
  },
  {
   "cell_type": "markdown",
   "metadata": {},
   "source": [
    "Now we'll make a proportion table of all the nominal and ordinal features. Note: this because our model can't handle non-numeric data."
   ]
  },
  {
   "cell_type": "code",
   "execution_count": 10,
   "metadata": {
    "collapsed": false
   },
   "outputs": [],
   "source": [
    "edu = prop.table(ftable(ubank$Education, ubank$cluster))*100\n",
    "online = prop.table(ftable(ubank$Online, ubank$cluster))*100\n",
    "securities_acc = prop.table(ftable(ubank$SecuritiesAccount, ubank$cluster))*100\n",
    "cda_acc = prop.table(ftable(ubank$CDAccount, ubank$cluster))*100\n",
    "ccCard = prop.table(ftable(ubank$CreditCard, ubank$cluster))*100\n",
    "personalLoan = prop.table(ftable(ubank$PersonalLoan, ubank$cluster))*100"
   ]
  },
  {
   "cell_type": "markdown",
   "metadata": {},
   "source": [
    "Finally, let's plot out our results."
   ]
  },
  {
   "cell_type": "code",
   "execution_count": 11,
   "metadata": {
    "collapsed": false
   },
   "outputs": [
    {
     "data": {
      "image/png": "[encoded data removed]",
      "text/plain": [
       "Plot with title \"PersonalLoan Possestion by Cluster\""
      ]
     },
     "metadata": {},
     "output_type": "display_data"
    }
   ],
   "source": [
    "par(mfrow=c(3,4))\n",
    "barplot(mean_df$Age, main=\"Mean Age by Cluster\")\n",
    "barplot(mean_df$Experience, main=\"Mean Experience by Cluster\")\n",
    "barplot(mean_df$Income, main=\"Mean Income by Cluster\")\n",
    "barplot(mean_df$Family, main=\"Mean Family size by Cluster\")\n",
    "barplot(mean_df$CCAvg, main=\"Mean CCAvg by Cluster\")\n",
    "barplot(mean_df$Mortgage, main=\"Mean Mortgage by Cluster\")\n",
    "barplot(edu, main=\"Education by Cluster\")\n",
    "barplot(online, main=\"Online Usage by Cluster\")\n",
    "barplot(securities_acc, main=\"SecuritiesAccount by Cluster\")\n",
    "barplot(cda_acc, main=\"CDAccount by Cluster\")\n",
    "barplot(ccCard, main=\"CreditCard Possestion by Cluster\")\n",
    "barplot(personalLoan, main=\"PersonalLoan Possestion by Cluster\")"
   ]
  },
  {
   "cell_type": "markdown",
   "metadata": {
    "collapsed": true
   },
   "source": [
    " As we can see, there are three types of groups with different characteristics.\n",
    "\n",
    " Group I (cluster 0): Older with more experience and education, yet have lower income. Pensioners.\n",
    " Group II (cluster 1): Younger with bigger family size and lower income yet seem to be rather educated but less experienced. Young Couples.\n",
    " Group III(cluster 2): Average age, high income, small family sizes, High use of bank services, fair amount of experience yet less educated. Heavy spenders, buisness men.\n",
    "\n",
    " Seems we have our groups and we know which one of them is the most profitable. Let's take this to upper management! "
   ]
  },
  {
   "cell_type": "code",
   "execution_count": null,
   "metadata": {
    "collapsed": true
   },
   "outputs": [],
   "source": []
  }
 ],
 "metadata": {
  "kernelspec": {
   "display_name": "R",
   "language": "R",
   "name": "ir"
  },
  "language_info": {
   "codemirror_mode": "r",
   "file_extension": ".r",
   "mimetype": "text/x-r-source",
   "name": "R",
   "pygments_lexer": "r",
   "version": "3.3.2"
  }
 },
 "nbformat": 4,
 "nbformat_minor": 2
}
